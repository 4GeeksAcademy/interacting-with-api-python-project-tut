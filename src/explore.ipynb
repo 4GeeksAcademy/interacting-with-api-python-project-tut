{
 "cells": [
  {
   "cell_type": "markdown",
   "metadata": {},
   "source": [
    "# Explore here"
   ]
  },
  {
   "cell_type": "code",
   "execution_count": 42,
   "metadata": {},
   "outputs": [
    {
     "data": {
      "text/plain": [
       "<spotipy.client.Spotify at 0x712cab4fdb50>"
      ]
     },
     "execution_count": 42,
     "metadata": {},
     "output_type": "execute_result"
    }
   ],
   "source": [
    "import spotipy as sp\n",
    "from spotipy.oauth2 import SpotifyClientCredentials\n",
    "import os\n",
    "import pandas as pd\n",
    "import seaborn as sns\n",
    "from dotenv import load_dotenv\n",
    "\n",
    "from dotenv import load_dotenv\n",
    "load_dotenv()\n",
    "\n",
    "import os\n",
    "\n",
    "client_id = os.environ.get(\"CLIENT_ID\")\n",
    "client_secret = os.environ.get(\"CLIENT_SECRET\")\n",
    "load_dotenv()\n",
    "\n",
    "sp.Spotify()\n",
    "\n"
   ]
  },
  {
   "cell_type": "code",
   "execution_count": 43,
   "metadata": {},
   "outputs": [
    {
     "ename": "AttributeError",
     "evalue": "module 'spotipy' has no attribute 'artist_top_tracks'",
     "output_type": "error",
     "traceback": [
      "\u001b[0;31m---------------------------------------------------------------------------\u001b[0m",
      "\u001b[0;31mAttributeError\u001b[0m                            Traceback (most recent call last)",
      "\u001b[1;32m/workspaces/interacting-with-api-python-project-tut/src/explore.ipynb Celda 3\u001b[0m line \u001b[0;36m3\n\u001b[1;32m      <a href='vscode-notebook-cell://codespaces%2Bsilver-spork-97j946v556v4cpjrq/workspaces/interacting-with-api-python-project-tut/src/explore.ipynb#W3sdnNjb2RlLXJlbW90ZQ%3D%3D?line=0'>1</a>\u001b[0m id_artista \u001b[39m=\u001b[39m \u001b[39m\"\u001b[39m\u001b[39m1yk1KXKWdvXVUC1TLAnO97?si=VvqtcYh0Tvmq7kEupAMdzA\u001b[39m\u001b[39m\"\u001b[39m\n\u001b[0;32m----> <a href='vscode-notebook-cell://codespaces%2Bsilver-spork-97j946v556v4cpjrq/workspaces/interacting-with-api-python-project-tut/src/explore.ipynb#W3sdnNjb2RlLXJlbW90ZQ%3D%3D?line=2'>3</a>\u001b[0m response \u001b[39m=\u001b[39m sp\u001b[39m.\u001b[39;49martist_top_tracks(id_artista)\n\u001b[1;32m      <a href='vscode-notebook-cell://codespaces%2Bsilver-spork-97j946v556v4cpjrq/workspaces/interacting-with-api-python-project-tut/src/explore.ipynb#W3sdnNjb2RlLXJlbW90ZQ%3D%3D?line=3'>4</a>\u001b[0m top_tracks \u001b[39m=\u001b[39m spotipy\u001b[39m.\u001b[39martist_top_tracks(id_artista)[\u001b[39m'\u001b[39m\u001b[39mtracks\u001b[39m\u001b[39m'\u001b[39m][:\u001b[39m10\u001b[39m]\n\u001b[1;32m      <a href='vscode-notebook-cell://codespaces%2Bsilver-spork-97j946v556v4cpjrq/workspaces/interacting-with-api-python-project-tut/src/explore.ipynb#W3sdnNjb2RlLXJlbW90ZQ%3D%3D?line=5'>6</a>\u001b[0m \u001b[39mfor\u001b[39;00m idx, track \u001b[39min\u001b[39;00m \u001b[39menumerate\u001b[39m(top_tracks, \u001b[39m1\u001b[39m):\n",
      "\u001b[0;31mAttributeError\u001b[0m: module 'spotipy' has no attribute 'artist_top_tracks'"
     ]
    }
   ],
   "source": [
    "id_artista = \"1yk1KXKWdvXVUC1TLAnO97?si=VvqtcYh0Tvmq7kEupAMdzA\"\n",
    "\n",
    "response = sp.artist_top_tracks(id_artista)\n",
    "top_tracks = spotipy.artist_top_tracks(id_artista)['tracks'][:10]\n",
    "\n",
    "for idx, track in enumerate(top_tracks, 1):\n",
    "    name = track['name']\n",
    "    popularity = track['popularity']\n",
    "    print(f\"{idx}. {name} - Popularidad: {popularity}, Duración: {duration:.2f} minutos\")\n"
   ]
  },
  {
   "cell_type": "code",
   "execution_count": null,
   "metadata": {},
   "outputs": [
    {
     "ename": "AttributeError",
     "evalue": "module 'spotipy' has no attribute 'artist_top_tracks'",
     "output_type": "error",
     "traceback": [
      "\u001b[0;31m---------------------------------------------------------------------------\u001b[0m",
      "\u001b[0;31mAttributeError\u001b[0m                            Traceback (most recent call last)",
      "\u001b[1;32m/workspaces/interacting-with-api-python-project-tut/src/explore.ipynb Celda 3\u001b[0m line \u001b[0;36m3\n\u001b[1;32m      <a href='vscode-notebook-cell://codespaces%2Bsilver-spork-97j946v556v4cpjrq/workspaces/interacting-with-api-python-project-tut/src/explore.ipynb#W2sdnNjb2RlLXJlbW90ZQ%3D%3D?line=0'>1</a>\u001b[0m id_artista \u001b[39m=\u001b[39m \u001b[39m\"\u001b[39m\u001b[39m1yk1KXKWdvXVUC1TLAnO97?si=O5TaUhAoREi-IAybjt_TLQ\u001b[39m\u001b[39m\"\u001b[39m \n\u001b[0;32m----> <a href='vscode-notebook-cell://codespaces%2Bsilver-spork-97j946v556v4cpjrq/workspaces/interacting-with-api-python-project-tut/src/explore.ipynb#W2sdnNjb2RlLXJlbW90ZQ%3D%3D?line=2'>3</a>\u001b[0m top_tracks \u001b[39m=\u001b[39m sp\u001b[39m.\u001b[39;49martist_top_tracks(id_artista)[\u001b[39m'\u001b[39m\u001b[39mtracks\u001b[39m\u001b[39m'\u001b[39m][:\u001b[39m10\u001b[39m]\n\u001b[1;32m      <a href='vscode-notebook-cell://codespaces%2Bsilver-spork-97j946v556v4cpjrq/workspaces/interacting-with-api-python-project-tut/src/explore.ipynb#W2sdnNjb2RlLXJlbW90ZQ%3D%3D?line=4'>5</a>\u001b[0m \u001b[39mfor\u001b[39;00m idx, track \u001b[39min\u001b[39;00m \u001b[39menumerate\u001b[39m(top_tracks, \u001b[39m1\u001b[39m):\n\u001b[1;32m      <a href='vscode-notebook-cell://codespaces%2Bsilver-spork-97j946v556v4cpjrq/workspaces/interacting-with-api-python-project-tut/src/explore.ipynb#W2sdnNjb2RlLXJlbW90ZQ%3D%3D?line=5'>6</a>\u001b[0m     name \u001b[39m=\u001b[39m track[\u001b[39m'\u001b[39m\u001b[39mname\u001b[39m\u001b[39m'\u001b[39m]\n",
      "\u001b[0;31mAttributeError\u001b[0m: module 'spotipy' has no attribute 'artist_top_tracks'"
     ]
    }
   ],
   "source": []
  }
 ],
 "metadata": {
  "kernelspec": {
   "display_name": "Python 3",
   "language": "python",
   "name": "python3"
  },
  "language_info": {
   "codemirror_mode": {
    "name": "ipython",
    "version": 3
   },
   "file_extension": ".py",
   "mimetype": "text/x-python",
   "name": "python",
   "nbconvert_exporter": "python",
   "pygments_lexer": "ipython3",
   "version": "3.11.4"
  },
  "orig_nbformat": 4
 },
 "nbformat": 4,
 "nbformat_minor": 2
}
