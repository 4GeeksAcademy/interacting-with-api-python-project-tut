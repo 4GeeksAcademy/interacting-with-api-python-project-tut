{
 "cells": [
  {
   "cell_type": "markdown",
   "metadata": {},
   "source": [
    "# Explore here"
   ]
  },
  {
   "cell_type": "code",
   "execution_count": 12,
   "metadata": {},
   "outputs": [
    {
     "data": {
      "text/plain": [
       "<spotipy.client.Spotify at 0x7234f0743a90>"
      ]
     },
     "execution_count": 12,
     "metadata": {},
     "output_type": "execute_result"
    }
   ],
   "source": [
    "import spotipy as sp\n",
    "from spotipy.oauth2 import SpotifyClientCredentials\n",
    "import os\n",
    "import matplotlib.pyplot as plt\n",
    "import pandas as pd\n",
    "#import seaborn as sns\n",
    "from spotipy.oauth2 import SpotifyClientCredentials\n",
    "import matplotlib.pyplot as plt \n",
    "\n",
    "\n",
    "from dotenv import load_dotenv\n",
    "load_dotenv()\n",
    "\n",
    "import os\n",
    "\n",
    "client_id = os.environ.get(\"CLIENT_ID\")\n",
    "client_secret = os.environ.get(\"CLIENT_SECRET\")\n",
    "load_dotenv()\n",
    "\n",
    "sp.Spotify()\n",
    "\n"
   ]
  },
  {
   "cell_type": "code",
   "execution_count": 13,
   "metadata": {},
   "outputs": [
    {
     "ename": "AttributeError",
     "evalue": "module 'spotipy' has no attribute 'artist_top_tracks'",
     "output_type": "error",
     "traceback": [
      "\u001b[0;31m---------------------------------------------------------------------------\u001b[0m",
      "\u001b[0;31mAttributeError\u001b[0m                            Traceback (most recent call last)",
      "\u001b[1;32m/workspaces/interacting-with-api-python-project-tut/src/explore.ipynb Celda 3\u001b[0m line \u001b[0;36m5\n\u001b[1;32m      <a href='vscode-notebook-cell://codespaces%2Bsilver-spork-97j946v556v4cpjrq/workspaces/interacting-with-api-python-project-tut/src/explore.ipynb#W2sdnNjb2RlLXJlbW90ZQ%3D%3D?line=1'>2</a>\u001b[0m artist_id \u001b[39m=\u001b[39m \u001b[39m'\u001b[39m\u001b[39m5Vv5llyiK1nlME2UNDzPBB\u001b[39m\u001b[39m'\u001b[39m  \u001b[39m# ID de tu artista favorito\u001b[39;00m\n\u001b[1;32m      <a href='vscode-notebook-cell://codespaces%2Bsilver-spork-97j946v556v4cpjrq/workspaces/interacting-with-api-python-project-tut/src/explore.ipynb#W2sdnNjb2RlLXJlbW90ZQ%3D%3D?line=3'>4</a>\u001b[0m \u001b[39m# Obtener el top 10 de canciones del artista en un país específico (por ejemplo, España 'ES')\u001b[39;00m\n\u001b[0;32m----> <a href='vscode-notebook-cell://codespaces%2Bsilver-spork-97j946v556v4cpjrq/workspaces/interacting-with-api-python-project-tut/src/explore.ipynb#W2sdnNjb2RlLXJlbW90ZQ%3D%3D?line=4'>5</a>\u001b[0m results \u001b[39m=\u001b[39m sp\u001b[39m.\u001b[39;49martist_top_tracks(artist_id, country\u001b[39m=\u001b[39m\u001b[39m'\u001b[39m\u001b[39mES\u001b[39m\u001b[39m'\u001b[39m)\n\u001b[1;32m      <a href='vscode-notebook-cell://codespaces%2Bsilver-spork-97j946v556v4cpjrq/workspaces/interacting-with-api-python-project-tut/src/explore.ipynb#W2sdnNjb2RlLXJlbW90ZQ%3D%3D?line=6'>7</a>\u001b[0m \u001b[39m# Imprimir solo los nombres de las canciones\u001b[39;00m\n\u001b[1;32m      <a href='vscode-notebook-cell://codespaces%2Bsilver-spork-97j946v556v4cpjrq/workspaces/interacting-with-api-python-project-tut/src/explore.ipynb#W2sdnNjb2RlLXJlbW90ZQ%3D%3D?line=7'>8</a>\u001b[0m \u001b[39mprint\u001b[39m(\u001b[39m\"\u001b[39m\u001b[39mTop 10 canciones:\u001b[39m\u001b[39m\"\u001b[39m)\n",
      "\u001b[0;31mAttributeError\u001b[0m: module 'spotipy' has no attribute 'artist_top_tracks'"
     ]
    }
   ],
   "source": [
    "# ID del artista (sin el prefijo 'spotify:artist:')\n",
    "artist_id = '5Vv5llyiK1nlME2UNDzPBB'  # ID de tu artista favorito\n",
    "\n",
    "# Obtener el top 10 de canciones del artista en un país específico (por ejemplo, España 'ES')\n",
    "results = sp.artist_top_tracks(artist_id, country='ES')\n",
    "\n",
    "# Imprimir solo los nombres de las canciones\n",
    "print(\"Top 10 canciones:\")\n",
    "for idx, track in enumerate(results['tracks'][:10], 1):\n",
    "    print(f\"{idx}. {track['name']}\")\n"
   ]
  },
  {
   "cell_type": "code",
   "execution_count": null,
   "metadata": {},
   "outputs": [
    {
     "name": "stdout",
     "output_type": "stream",
     "text": [
      "Client ID: 00191d41d3d748a39fc3e9fe65491969\n",
      "Client Secret: d9ad6e4ec94d49d28310a0451b58b57a\n"
     ]
    },
    {
     "ename": "NameError",
     "evalue": "name 'spotipy' is not defined",
     "output_type": "error",
     "traceback": [
      "\u001b[0;31m---------------------------------------------------------------------------\u001b[0m",
      "\u001b[0;31mNameError\u001b[0m                                 Traceback (most recent call last)",
      "\u001b[1;32m/workspaces/interacting-with-api-python-project-tut/src/explore.ipynb Celda 4\u001b[0m line \u001b[0;36m6\n\u001b[1;32m      <a href='vscode-notebook-cell://codespaces%2Bsilver-spork-97j946v556v4cpjrq/workspaces/interacting-with-api-python-project-tut/src/explore.ipynb#W3sdnNjb2RlLXJlbW90ZQ%3D%3D?line=2'>3</a>\u001b[0m \u001b[39mprint\u001b[39m(\u001b[39m\"\u001b[39m\u001b[39mClient Secret:\u001b[39m\u001b[39m\"\u001b[39m, client_secret)\n\u001b[1;32m      <a href='vscode-notebook-cell://codespaces%2Bsilver-spork-97j946v556v4cpjrq/workspaces/interacting-with-api-python-project-tut/src/explore.ipynb#W3sdnNjb2RlLXJlbW90ZQ%3D%3D?line=4'>5</a>\u001b[0m \u001b[39m# Configuración de autenticación con Spotify\u001b[39;00m\n\u001b[0;32m----> <a href='vscode-notebook-cell://codespaces%2Bsilver-spork-97j946v556v4cpjrq/workspaces/interacting-with-api-python-project-tut/src/explore.ipynb#W3sdnNjb2RlLXJlbW90ZQ%3D%3D?line=5'>6</a>\u001b[0m spotify \u001b[39m=\u001b[39m spotipy\u001b[39m.\u001b[39mSpotify(client_credentials_manager\u001b[39m=\u001b[39mSpotifyClientCredentials(\n\u001b[1;32m      <a href='vscode-notebook-cell://codespaces%2Bsilver-spork-97j946v556v4cpjrq/workspaces/interacting-with-api-python-project-tut/src/explore.ipynb#W3sdnNjb2RlLXJlbW90ZQ%3D%3D?line=6'>7</a>\u001b[0m     client_id\u001b[39m=\u001b[39mclient_id,\n\u001b[1;32m      <a href='vscode-notebook-cell://codespaces%2Bsilver-spork-97j946v556v4cpjrq/workspaces/interacting-with-api-python-project-tut/src/explore.ipynb#W3sdnNjb2RlLXJlbW90ZQ%3D%3D?line=7'>8</a>\u001b[0m     client_secret\u001b[39m=\u001b[39mclient_secret\n\u001b[1;32m      <a href='vscode-notebook-cell://codespaces%2Bsilver-spork-97j946v556v4cpjrq/workspaces/interacting-with-api-python-project-tut/src/explore.ipynb#W3sdnNjb2RlLXJlbW90ZQ%3D%3D?line=8'>9</a>\u001b[0m ))\n\u001b[1;32m     <a href='vscode-notebook-cell://codespaces%2Bsilver-spork-97j946v556v4cpjrq/workspaces/interacting-with-api-python-project-tut/src/explore.ipynb#W3sdnNjb2RlLXJlbW90ZQ%3D%3D?line=10'>11</a>\u001b[0m \u001b[39m# ID del artista (sin prefijos o parámetros adicionales)\u001b[39;00m\n\u001b[1;32m     <a href='vscode-notebook-cell://codespaces%2Bsilver-spork-97j946v556v4cpjrq/workspaces/interacting-with-api-python-project-tut/src/explore.ipynb#W3sdnNjb2RlLXJlbW90ZQ%3D%3D?line=11'>12</a>\u001b[0m artist_id \u001b[39m=\u001b[39m \u001b[39m'\u001b[39m\u001b[39m5Vv5llyiK1nlME2UNDzPBB\u001b[39m\u001b[39m'\u001b[39m\n",
      "\u001b[0;31mNameError\u001b[0m: name 'spotipy' is not defined"
     ]
    }
   ],
   "source": [
    "\n",
    "\n",
    "\n",
    "# Comprobar si las credenciales se cargan correctamente\n",
    "print(\"Client ID:\", client_id)\n",
    "print(\"Client Secret:\", client_secret)\n",
    "\n",
    "# Configuración de autenticación con Spotify\n",
    "spotify = spotipy.Spotify(client_credentials_manager=SpotifyClientCredentials(\n",
    "    client_id=client_id,\n",
    "    client_secret=client_secret\n",
    "))\n",
    "\n",
    "# ID del artista (sin prefijos o parámetros adicionales)\n",
    "artist_id = '5Vv5llyiK1nlME2UNDzPBB'\n",
    "\n",
    "# Obtener el top 10 de canciones del artista en un país específico (por ejemplo, España 'ES')\n",
    "results = sp.artist_top_tracks(artist_id, country='ES')\n",
    "\n",
    "# Imprimir solo los nombres de las canciones principales\n",
    "print(\"Top 10 canciones:\")\n",
    "for idx, track in enumerate(results['tracks'][:10], 1):\n",
    "    print(f\"{idx}. {track['name']}\")\n"
   ]
  },
  {
   "cell_type": "code",
   "execution_count": null,
   "metadata": {},
   "outputs": [],
   "source": []
  }
 ],
 "metadata": {
  "kernelspec": {
   "display_name": "Python 3",
   "language": "python",
   "name": "python3"
  },
  "language_info": {
   "codemirror_mode": {
    "name": "ipython",
    "version": 3
   },
   "file_extension": ".py",
   "mimetype": "text/x-python",
   "name": "python",
   "nbconvert_exporter": "python",
   "pygments_lexer": "ipython3",
   "version": "3.11.4"
  },
  "orig_nbformat": 4
 },
 "nbformat": 4,
 "nbformat_minor": 2
}
